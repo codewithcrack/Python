{
 "cells": [
  {
   "cell_type": "markdown",
   "metadata": {},
   "source": [
    "Section 1: Conditional Statement"
   ]
  },
  {
   "cell_type": "markdown",
   "metadata": {},
   "source": [
    "1. Write a program that asks the user to enter a number and checks\n",
    "whether the number is even or odd."
   ]
  },
  {
   "cell_type": "code",
   "execution_count": 2,
   "metadata": {},
   "outputs": [
    {
     "name": "stdout",
     "output_type": "stream",
     "text": [
      "Even\n"
     ]
    }
   ],
   "source": [
    "num=int(input(\"Enter the Number:\"))\n",
    "if num%2==0:\n",
    "    print(\"Even\")\n",
    "else:\n",
    "    print(\"odd\")"
   ]
  },
  {
   "cell_type": "markdown",
   "metadata": {},
   "source": [
    "2. Write a program that asks the user to enter a number and checks\n",
    "whether it is positive, negative, or zero."
   ]
  },
  {
   "cell_type": "code",
   "execution_count": 10,
   "metadata": {},
   "outputs": [
    {
     "name": "stdout",
     "output_type": "stream",
     "text": [
      "Negative number\n"
     ]
    }
   ],
   "source": [
    "num=int(input(\"Enter the Number\"))\n",
    "if num>0:\n",
    "    print(\"positive number\")\n",
    "elif num<0:\n",
    "    print(\"Negative number\")\n",
    "else:\n",
    "    print(\"Zero number\")\n"
   ]
  },
  {
   "cell_type": "markdown",
   "metadata": {},
   "source": [
    "3. Write a program that asks the user to enter their age and checks\n",
    "if they are eligible to vote (18 years or older)."
   ]
  },
  {
   "cell_type": "code",
   "execution_count": 11,
   "metadata": {},
   "outputs": [
    {
     "name": "stdout",
     "output_type": "stream",
     "text": [
      "You are not eligile to vote\n"
     ]
    }
   ],
   "source": [
    "age=int(input(\"Enter the age\"))\n",
    "if age>=18:\n",
    "    print(\"You are not eligile to vote\")\n",
    "else:\n",
    "    print(\"You are not eligile to vote\")\n"
   ]
  },
  {
   "cell_type": "markdown",
   "metadata": {},
   "source": [
    "4. Write a program that takes the lengths of three sides of a\n",
    "triangle as input and determines if the triangle is:\n",
    "○ Equilateral (all sides are equal)\n",
    "○ Isosceles (two sides are equal)\n",
    "○ Scalene (all sides are different)"
   ]
  },
  {
   "cell_type": "code",
   "execution_count": 3,
   "metadata": {},
   "outputs": [
    {
     "name": "stdout",
     "output_type": "stream",
     "text": [
      "All sides are different of Triangle\n"
     ]
    }
   ],
   "source": [
    "a=int(input(\"Enter the A side of Triangle:\"))\n",
    "b=int(input(\"Enter the B side of Triangle:\"))\n",
    "c=int(input(\"Enter the C side of Triangle:\"))\n",
    "\n",
    "if a==b and b==c and a==c:\n",
    "    print(\"All sides are eqaul of Triangle (Equilateral)\")\n",
    "elif a==b and b==c or a==c:\n",
    "    print(\"Two sides are eqaul of Triangle(Isosceles)\")\n",
    "else:\n",
    "    print(\"All sides are different of Triangle(Scalene)\")"
   ]
  },
  {
   "cell_type": "markdown",
   "metadata": {},
   "source": [
    "5. Write a program that asks the user to enter a password and checks\n",
    "if it matches a predefined password (e.g., \"Python123\")."
   ]
  },
  {
   "cell_type": "code",
   "execution_count": 5,
   "metadata": {},
   "outputs": [
    {
     "name": "stdout",
     "output_type": "stream",
     "text": [
      "your password match\n"
     ]
    }
   ],
   "source": [
    "passwd=\"Python123\"\n",
    "user=input(\"Enter the password:\")\n",
    "if passwd==user:\n",
    "    print(\"your password match\")\n",
    "else:\n",
    "    print(\"your password doesnot mactch\")"
   ]
  },
  {
   "cell_type": "markdown",
   "metadata": {},
   "source": [
    "Section 2: For Loops"
   ]
  },
  {
   "cell_type": "markdown",
   "metadata": {},
   "source": [
    "6. Multiplication Table: Write a Python program to print the\n",
    "multiplication table of a given number using a for loop.\n",
    "Example:\n",
    "○ Input: 5\n",
    "○ Output: 5, 10, 15, ..., 50"
   ]
  },
  {
   "cell_type": "code",
   "execution_count": 6,
   "metadata": {},
   "outputs": [
    {
     "name": "stdout",
     "output_type": "stream",
     "text": [
      "5X1=5\n",
      "5X2=10\n",
      "5X3=15\n",
      "5X4=20\n",
      "5X5=25\n",
      "5X6=30\n",
      "5X7=35\n",
      "5X8=40\n",
      "5X9=45\n",
      "5X10=50\n"
     ]
    }
   ],
   "source": [
    "num=int(input(\"Enter the table print number:\"))\n",
    "\n",
    "for i in range(1,10+1):\n",
    "    print(f\"{num}X{i}={num*i}\")"
   ]
  },
  {
   "cell_type": "markdown",
   "metadata": {},
   "source": [
    "7. Count Vowels: Write a program to count and display the number of\n",
    "vowels in a given string."
   ]
  },
  {
   "cell_type": "code",
   "execution_count": 31,
   "metadata": {},
   "outputs": [
    {
     "name": "stdout",
     "output_type": "stream",
     "text": [
      "code with crack \n",
      "Number of vowels in the given string: 4\n"
     ]
    }
   ],
   "source": [
    "str=input(\"Enter the string:\")\n",
    "vowels=\"aeiouAEIOU\"\n",
    "count=0\n",
    "for char in str:\n",
    "    if char in vowels:\n",
    "        count+=1\n",
    "print(str)\n",
    "print(f\"Number of vowels in the given string: {count}\")\n"
   ]
  },
  {
   "cell_type": "markdown",
   "metadata": {},
   "source": [
    "8. Sum of Even Numbers Create a program to find the sum of all even\n",
    "numbers in a list using a for loop.\n",
    "Example:\n",
    "○ Input: [2, 5, 8, 3]\n",
    "○ Output: 10"
   ]
  },
  {
   "cell_type": "code",
   "execution_count": 48,
   "metadata": {},
   "outputs": [
    {
     "name": "stdout",
     "output_type": "stream",
     "text": [
      "Sum of even number in list: 20\n"
     ]
    }
   ],
   "source": [
    "list=[1,2,3,4,5,6,7,8,9]\n",
    "even=0\n",
    "for i in list:\n",
    "    if i%2==0:\n",
    "    \n",
    "        even+=i\n",
    "print(\"Sum of even number in list:\",even)\n",
    "\n"
   ]
  },
  {
   "cell_type": "markdown",
   "metadata": {},
   "source": [
    "9. Create a program to find the largest and smallest numbers in a\n",
    "list using a for loop.\n",
    "Example:\n",
    "○ Input = [10, 20, 5, 8], Output = Largest = 20, Smallest = 5"
   ]
  },
  {
   "cell_type": "code",
   "execution_count": 50,
   "metadata": {},
   "outputs": [
    {
     "name": "stdout",
     "output_type": "stream",
     "text": [
      "Largest number:40\n",
      "Smallest number:0\n"
     ]
    }
   ],
   "source": [
    "list=[10,2,20,40,0,24]\n",
    "largest=list[0]\n",
    "smallest=list[0]\n",
    "for i in list:\n",
    "    if i >largest:\n",
    "        largest=i\n",
    "    elif i< smallest:\n",
    "        smallest=i\n",
    "print(f\"Largest number:{largest}\")\n",
    "print(f\"Smallest number:{smallest}\")"
   ]
  },
  {
   "cell_type": "markdown",
   "metadata": {},
   "source": [
    "10. Write a program to calculate the sum of digits of a given\n",
    "number using a for loop.\n",
    "Example: Input = 1234, Output = 10"
   ]
  },
  {
   "cell_type": "code",
   "execution_count": 4,
   "metadata": {},
   "outputs": [
    {
     "name": "stdout",
     "output_type": "stream",
     "text": [
      "15\n"
     ]
    }
   ],
   "source": [
    "num=input(\"Enter the number:\")\n",
    "sum=0\n",
    "\n",
    "for i in str(num):\n",
    "    sum+=int(i)\n",
    "\n",
    "print(sum)"
   ]
  },
  {
   "cell_type": "markdown",
   "metadata": {},
   "source": [
    "11. Write a program to reverse a given string using a for loop.\n",
    "Example: Input = \"Python\", Output = \"nohtyP\""
   ]
  },
  {
   "cell_type": "code",
   "execution_count": 68,
   "metadata": {},
   "outputs": [
    {
     "name": "stdout",
     "output_type": "stream",
     "text": [
      "edoc\n"
     ]
    }
   ],
   "source": [
    "inp=input(\"Enter the string:\")\n",
    "rev=\"\"\n",
    "for i in inp:\n",
    "    rev=i+rev\n",
    "    \n",
    "print(rev)"
   ]
  },
  {
   "cell_type": "markdown",
   "metadata": {},
   "source": [
    "Section 3: Functions"
   ]
  },
  {
   "cell_type": "markdown",
   "metadata": {},
   "source": [
    "1. Factorial Function: Write a function factorial(n) that returns\n",
    "the factorial of a number using a for loop."
   ]
  },
  {
   "cell_type": "code",
   "execution_count": 75,
   "metadata": {},
   "outputs": [
    {
     "name": "stdout",
     "output_type": "stream",
     "text": [
      "Factorial number: 120\n"
     ]
    }
   ],
   "source": [
    "\n",
    "def factor_num(num):\n",
    "    factor=1\n",
    "    for i in range(1,num+1):\n",
    "        factor*=i\n",
    "\n",
    "    print(\"Factorial number:\",factor)\n",
    "\n",
    "num=int(input(\"Enter the factorial number:\"))\n",
    "factor_num(num)"
   ]
  },
  {
   "cell_type": "markdown",
   "metadata": {},
   "source": [
    "2. Prime Check Function: Create a function is_prime(n) to check\n",
    "whether a number is prime.\n",
    "Example:\n",
    "○ Input: 7\n",
    "○ Output: True"
   ]
  },
  {
   "cell_type": "code",
   "execution_count": 78,
   "metadata": {},
   "outputs": [
    {
     "data": {
      "text/plain": [
       "False"
      ]
     },
     "execution_count": 78,
     "metadata": {},
     "output_type": "execute_result"
    }
   ],
   "source": [
    "def prime(num):\n",
    "    if num <= 1:\n",
    "        return False\n",
    "    for i in range(2, int(num**0.5) + 1):\n",
    "        if num % i == 0:\n",
    "            return False\n",
    "        return True\n",
    "    \n",
    "num=int(input(\"Enter the number:\"))\n",
    "prime(num)\n"
   ]
  },
  {
   "cell_type": "markdown",
   "metadata": {},
   "source": [
    "3. Find Maximum in List:Write a function find_max(lst) to find and\n",
    "return the maximum value in a list.\n",
    "Example:\n",
    "○ Input: [1, 3, 7, 0]\n",
    "○ Output: 7"
   ]
  },
  {
   "cell_type": "code",
   "execution_count": 81,
   "metadata": {},
   "outputs": [
    {
     "name": "stdout",
     "output_type": "stream",
     "text": [
      "70\n"
     ]
    }
   ],
   "source": [
    "def func():\n",
    "    list=[1,2,45,67,70]\n",
    "    max=list[0]\n",
    "    for i in list:\n",
    "        if i>max:\n",
    "            max=i\n",
    "    print(max)\n",
    "\n",
    "func()\n",
    "    "
   ]
  },
  {
   "cell_type": "markdown",
   "metadata": {},
   "source": [
    "4. Write a function palindrome_check(string) that returns True if\n",
    "the given string is a palindrome, otherwise False.\n",
    "Example: Input = \"radar\", Output = True"
   ]
  },
  {
   "cell_type": "code",
   "execution_count": 101,
   "metadata": {},
   "outputs": [
    {
     "name": "stdout",
     "output_type": "stream",
     "text": [
      "True\n"
     ]
    }
   ],
   "source": [
    "def palindrome_check(string):\n",
    "    return string == string[::-1]\n",
    "\n",
    "input_string = \"radar\"\n",
    "print(palindrome_check(input_string))  "
   ]
  },
  {
   "cell_type": "markdown",
   "metadata": {},
   "source": [
    "5. Write a function sum_of_squares(n) that returns the sum of\n",
    "squares of the first n natural numbers."
   ]
  },
  {
   "cell_type": "code",
   "execution_count": 85,
   "metadata": {},
   "outputs": [
    {
     "name": "stdout",
     "output_type": "stream",
     "text": [
      "55\n"
     ]
    }
   ],
   "source": [
    "def sum_of_square(n):\n",
    "    sum=0\n",
    "    for i in range(1,n+1):\n",
    "        sum+=i**2\n",
    "    \n",
    "    print(sum)\n",
    "\n",
    "sum_of_square(5)"
   ]
  },
  {
   "cell_type": "markdown",
   "metadata": {},
   "source": [
    "6. Write a function sum_of_squares(n) that returns the sum of\n",
    "squares of the first n natural numbers."
   ]
  },
  {
   "cell_type": "code",
   "execution_count": 86,
   "metadata": {},
   "outputs": [
    {
     "name": "stdout",
     "output_type": "stream",
     "text": [
      "140\n"
     ]
    }
   ],
   "source": [
    "def sum_of_square(n):\n",
    "    sum=0\n",
    "    for i in range(1,n+1):\n",
    "        sum+=i**2\n",
    "    return sum\n",
    "n=int(input(\"Enter the square number:\"))\n",
    "print(sum_of_square(n))"
   ]
  },
  {
   "cell_type": "markdown",
   "metadata": {},
   "source": [
    "Section 4: Classes"
   ]
  },
  {
   "cell_type": "markdown",
   "metadata": {},
   "source": [
    "1. Rectangle Class:Define a class Rectangle with:\n",
    "○ Two attributes: length and width.\n",
    "○ A method area() to calculate the area.\n",
    "○ A method perimeter() to calculate the perimeter."
   ]
  },
  {
   "cell_type": "code",
   "execution_count": 1,
   "metadata": {},
   "outputs": [
    {
     "name": "stdout",
     "output_type": "stream",
     "text": [
      "Area of Rectangle 20\n",
      "None\n",
      "perimeter of Rectangle: 30\n",
      "None\n"
     ]
    }
   ],
   "source": [
    "class rectangle:\n",
    "    def area_rect(self,length,width):\n",
    "        self.length=length\n",
    "        self.width=width\n",
    "        area=self.length*self.width\n",
    "        print(\"Area of Rectangle\",area)\n",
    "    def perimeter_rect(self,length,width):\n",
    "        self.length=length\n",
    "        self.width=width\n",
    "        perimeter=2*(self.length+self.width)\n",
    "        print(\"perimeter of Rectangle:\",perimeter)\n",
    "        \n",
    "cls=rectangle()\n",
    "print(cls.area_rect(4,5))\n",
    "print(cls.perimeter_rect(5,10))\n"
   ]
  },
  {
   "cell_type": "markdown",
   "metadata": {},
   "source": [
    " Student Class: Create a class Student with:\n",
    "○ Attributes: name, roll_number, and marks.\n",
    "○ A method display_details() to print the student's details.\n",
    "○ A method is_passed() that returns True if marks ≥ 40, else\n",
    "False."
   ]
  },
  {
   "cell_type": "code",
   "execution_count": 6,
   "metadata": {},
   "outputs": [
    {
     "name": "stdout",
     "output_type": "stream",
     "text": [
      "student's name: code\n",
      "student's Roll No: 12\n",
      "Marks 40\n"
     ]
    },
    {
     "data": {
      "text/plain": [
       "True"
      ]
     },
     "execution_count": 6,
     "metadata": {},
     "output_type": "execute_result"
    }
   ],
   "source": [
    "\n",
    "class student:\n",
    "    def display_details(self,name,roll_num,marks):\n",
    "        self.name=name\n",
    "        self.roll_num=roll_num\n",
    "        self.marks=marks\n",
    "        print(\"student's name:\",self.name)\n",
    "        print(\"student's Roll No:\",self.roll_num)\n",
    "        print(\"Marks\",self.marks)\n",
    "    def is_passed(self):\n",
    "        if self.marks>=40:\n",
    "            return True\n",
    "        else:\n",
    "            return False\n",
    "\n",
    "stud=student()\n",
    "stud.display_details(\"code\",12,)\n",
    "stud.is_passed()"
   ]
  },
  {
   "cell_type": "markdown",
   "metadata": {},
   "source": [
    "3. Define a class Circle with:\n",
    "● Attribute: radius.\n",
    "● Methods: area() to calculate the area, circumference() to\n",
    "calculate the circumference."
   ]
  },
  {
   "cell_type": "code",
   "execution_count": 21,
   "metadata": {},
   "outputs": [
    {
     "name": "stdout",
     "output_type": "stream",
     "text": [
      "Area of circle: 78.55\n",
      "Circumference of circle: 31.419999999999998\n"
     ]
    }
   ],
   "source": [
    "class Circle:\n",
    "    def area(self):\n",
    "        radius=int(input(\"Enter the Area of circle:\"))\n",
    "        self.pi=3.142\n",
    "        rad_area = self.pi * radius**2\n",
    "        print(\"Area of circle:\",rad_area)\n",
    "\n",
    "    def circumference(self):\n",
    "        radius=int(input(\"Enter the Circumference of circle:\"))\n",
    "        cir_area=2*(self.pi*radius)\n",
    "\n",
    "        print(\"Circumference of circle:\",cir_area)\n",
    "cir=Circle()\n",
    "cir.area()\n",
    "cir.circumference()\n"
   ]
  },
  {
   "cell_type": "markdown",
   "metadata": {},
   "source": [
    "4. Create a class BankAccount with:\n",
    "● Attributes: account_number, account_holder, balance.\n",
    "● Methods:\n",
    "○ deposit(amount) to add money to the account.\n",
    "○ withdraw(amount) to subtract money (if sufficient\n",
    "balance is available).\n",
    "○ display_balance() to print the current balance."
   ]
  },
  {
   "cell_type": "code",
   "execution_count": 41,
   "metadata": {},
   "outputs": [
    {
     "name": "stdout",
     "output_type": "stream",
     "text": [
      "previous Balance 10000\n",
      "Deposit amount 4000\n",
      "previous balance: 14000\n",
      "Withdraw amount 5000\n",
      "current balance: 9000\n"
     ]
    }
   ],
   "source": [
    "class BankAccount:\n",
    "    def __init__(self,account_num,account_holder,balance):\n",
    "        self.account_num=account_num\n",
    "        self.account_holder=account_holder\n",
    "        self.balance=balance\n",
    "    \n",
    "    def deposit(self,amount):\n",
    "        print(\"previous Balance\",self.balance)\n",
    "        self.balance+=amount\n",
    "        print(\"Deposit amount\",amount)\n",
    "        \n",
    "        \n",
    "    def withdraw(self,amount):\n",
    "        print(\"previous balance:\",self.balance)\n",
    "        if amount<=self.balance:\n",
    "            self.balance-=amount\n",
    "            print(\"Withdraw amount\",amount)\n",
    "        else:\n",
    "            print(\"Insufficient balance\")\n",
    "       \n",
    "\n",
    "    def display_balance(self):\n",
    "        print(\"current balance:\",self.balance)\n",
    "\n",
    "\n",
    "\n",
    "acc=BankAccount(123456780,\"Aman\",10000)\n",
    "dep=int(input(\"Enter the deposit amount:\"))\n",
    "with_drw=int(input(\"Enter the withdraw amount:\"))\n",
    "acc.deposit(dep)\n",
    "acc.withdraw(with_drw)\n",
    "acc.display_balance()\n"
   ]
  },
  {
   "cell_type": "markdown",
   "metadata": {},
   "source": [
    "5. A class Book with:\n",
    "● Attributes: title, author, price.\n",
    "● Methods:\n",
    "○ apply_discount(discount) to reduce the price by a\n",
    "given percentage.\n",
    "○ display_details() to print the book details."
   ]
  },
  {
   "cell_type": "code",
   "execution_count": 56,
   "metadata": {},
   "outputs": [
    {
     "name": "stdout",
     "output_type": "stream",
     "text": [
      "Title name: Python\n",
      "Author: Code\n",
      "Book price after discount: 900.0\n"
     ]
    }
   ],
   "source": [
    "class Book:\n",
    "    def __init__(self,title,author,price):\n",
    "        self.title=title\n",
    "        self.author=author\n",
    "        self.price=price\n",
    "\n",
    "    def apply_discount(self, discount):\n",
    "        self.discount=discount\n",
    "        self.price=self.price-self.discount/100*self.price\n",
    "    \n",
    "    def display(self):\n",
    "        print(\"Title name:\",self.title)\n",
    "        print(\"Author:\",self.author)\n",
    "        print(\"Book price after discount:\",self.price)\n",
    "\n",
    "bk=Book(\"Python\",\"Code\",1000)\n",
    "\n",
    "bk.apply_discount(10)\n",
    "bk.display()\n"
   ]
  },
  {
   "cell_type": "markdown",
   "metadata": {},
   "source": [
    "6. Create a class Calculator with:\n",
    "○ A method add(a, b) to add two numbers.\n",
    "○ A method subtract(a, b) to subtract two numbers.\n",
    "○ A method multiply(a, b) to multiply two numbers.\n",
    "○ A method divide(a, b) to divide two numbers (handle division\n",
    "by zero gracefully)."
   ]
  },
  {
   "cell_type": "code",
   "execution_count": 59,
   "metadata": {},
   "outputs": [
    {
     "name": "stdout",
     "output_type": "stream",
     "text": [
      "add two number: 11\n",
      "Subtract two number: 6\n",
      "Multiply two number: 81\n",
      "divide two number: 3.0\n",
      "Cannot divide by zero\n"
     ]
    }
   ],
   "source": [
    "class calculator:\n",
    "    def add(self, a,b):\n",
    "        print(\"add two number:\",a+b)\n",
    "    def subtract(self,a,b):\n",
    "        print(\"Subtract two number:\",a-b)\n",
    "    def multiply(self ,a,b):\n",
    "        print(\"Multiply two number:\",a*b)\n",
    "\n",
    "    def divide(self,a,b):\n",
    "        print(\"divide two number:\",a/b)\n",
    "\n",
    "\n",
    "cal=calculator()\n",
    "cal.add(5,6)\n",
    "cal.subtract(10,4)\n",
    "cal.multiply(9,9)\n",
    "cal.divide(12,4)\n",
    "try:\n",
    "    cal.divide(12, 0)\n",
    "except ZeroDivisionError:\n",
    "    print(\"Cannot divide by zero\")"
   ]
  },
  {
   "cell_type": "markdown",
   "metadata": {},
   "source": [
    "7. Write a class Person with:\n",
    "○ Attributes: name, age, gender.\n",
    "○ Method introduce() to print a message like: \"Hello, my name\n",
    "is [name], I am [age] years old, and I am a [gender].\"\n",
    "○ Create a subclass Employee that adds:\n",
    "■ Attribute: job_title.\n",
    "■ Override introduce() to include the job title."
   ]
  },
  {
   "cell_type": "code",
   "execution_count": 5,
   "metadata": {},
   "outputs": [
    {
     "ename": "TypeError",
     "evalue": "object.__init__() takes exactly one argument (the instance to initialize)",
     "output_type": "error",
     "traceback": [
      "\u001b[1;31m---------------------------------------------------------------------------\u001b[0m",
      "\u001b[1;31mTypeError\u001b[0m                                 Traceback (most recent call last)",
      "Cell \u001b[1;32mIn[5], line 17\u001b[0m\n\u001b[0;32m     14\u001b[0m     \u001b[38;5;28;01mdef\u001b[39;00m \u001b[38;5;21mintroduce\u001b[39m(\u001b[38;5;28mself\u001b[39m):\n\u001b[0;32m     15\u001b[0m         \u001b[38;5;28mprint\u001b[39m(\u001b[38;5;124mf\u001b[39m\u001b[38;5;124m\"\u001b[39m\u001b[38;5;124mHello, my name is \u001b[39m\u001b[38;5;132;01m{\u001b[39;00m\u001b[38;5;28mself\u001b[39m\u001b[38;5;241m.\u001b[39mname\u001b[38;5;132;01m}\u001b[39;00m\u001b[38;5;124m, I am \u001b[39m\u001b[38;5;132;01m{\u001b[39;00m\u001b[38;5;28mself\u001b[39m\u001b[38;5;241m.\u001b[39mage\u001b[38;5;132;01m}\u001b[39;00m\u001b[38;5;124m years old, I am a \u001b[39m\u001b[38;5;132;01m{\u001b[39;00m\u001b[38;5;28mself\u001b[39m\u001b[38;5;241m.\u001b[39mgender\u001b[38;5;132;01m}\u001b[39;00m\u001b[38;5;124m, and I work as a \u001b[39m\u001b[38;5;132;01m{\u001b[39;00m\u001b[38;5;28mself\u001b[39m\u001b[38;5;241m.\u001b[39mjob_title\u001b[38;5;132;01m}\u001b[39;00m\u001b[38;5;124m.\u001b[39m\u001b[38;5;124m\"\u001b[39m)\n\u001b[1;32m---> 17\u001b[0m emp \u001b[38;5;241m=\u001b[39m \u001b[43memployee\u001b[49m\u001b[43m(\u001b[49m\u001b[38;5;124;43m\"\u001b[39;49m\u001b[38;5;124;43mAman\u001b[39;49m\u001b[38;5;124;43m\"\u001b[39;49m\u001b[43m,\u001b[49m\u001b[43m \u001b[49m\u001b[38;5;241;43m19\u001b[39;49m\u001b[43m,\u001b[49m\u001b[43m \u001b[49m\u001b[38;5;124;43m\"\u001b[39;49m\u001b[38;5;124;43mmale\u001b[39;49m\u001b[38;5;124;43m\"\u001b[39;49m\u001b[43m,\u001b[49m\u001b[38;5;124;43m\"\u001b[39;49m\u001b[38;5;124;43mmanager\u001b[39;49m\u001b[38;5;124;43m\"\u001b[39;49m\u001b[43m)\u001b[49m\n\u001b[0;32m     18\u001b[0m emp\u001b[38;5;241m.\u001b[39mintroduce()\n",
      "Cell \u001b[1;32mIn[5], line 11\u001b[0m, in \u001b[0;36memployee.__init__\u001b[1;34m(self, name, age, gender, job_title)\u001b[0m\n\u001b[0;32m     10\u001b[0m \u001b[38;5;28;01mdef\u001b[39;00m \u001b[38;5;21m__init__\u001b[39m(\u001b[38;5;28mself\u001b[39m, name, age, gender, job_title):\n\u001b[1;32m---> 11\u001b[0m     \u001b[38;5;28;43msuper\u001b[39;49m\u001b[43m(\u001b[49m\u001b[43m)\u001b[49m\u001b[38;5;241;43m.\u001b[39;49m\u001b[38;5;21;43m__init__\u001b[39;49m\u001b[43m(\u001b[49m\u001b[43mname\u001b[49m\u001b[43m,\u001b[49m\u001b[43m \u001b[49m\u001b[43mage\u001b[49m\u001b[43m,\u001b[49m\u001b[43m \u001b[49m\u001b[43mgender\u001b[49m\u001b[43m)\u001b[49m\n\u001b[0;32m     12\u001b[0m     \u001b[38;5;28mself\u001b[39m\u001b[38;5;241m.\u001b[39mjob_title \u001b[38;5;241m=\u001b[39m job_title\n",
      "\u001b[1;31mTypeError\u001b[0m: object.__init__() takes exactly one argument (the instance to initialize)"
     ]
    }
   ],
   "source": [
    "class person:\n",
    "    def _init__(self,name,age,gender):\n",
    "        self.name=name\n",
    "        self.age=age\n",
    "        self.gender=gender\n",
    "    def introduce(self):\n",
    "        print(f\"hello, my name is {self.name},I am {self.age}years old, and I am a {self.gender}\")\n",
    "class employee(person):\n",
    "\n",
    "    def __init__(self, name, age, gender, job_title):\n",
    "        super().__init__(name, age, gender)\n",
    "        self.job_title = job_title\n",
    "\n",
    "    def introduce(self):\n",
    "        print(f\"Hello, my name is {self.name}, I am {self.age} years old, I am a {self.gender}, and I work as a {self.job_title}.\")\n",
    "\n",
    "emp = employee(\"Aman\", 19, \"male\",\"manager\")\n",
    "emp.introduce()"
   ]
  },
  {
   "cell_type": "markdown",
   "metadata": {},
   "source": [
    "Section 5: File Handling"
   ]
  },
  {
   "cell_type": "markdown",
   "metadata": {},
   "source": [
    "1. File Creation and Writing: Write a Python script to:\n",
    "○ Create a file named data.txt.\n",
    "○ Write the numbers from 1 to 10 (each on a new line) to the\n",
    "file.\n",
    "○ Read the file and print its contents."
   ]
  },
  {
   "cell_type": "code",
   "execution_count": 82,
   "metadata": {},
   "outputs": [
    {
     "name": "stdout",
     "output_type": "stream",
     "text": [
      "\n"
     ]
    }
   ],
   "source": [
    "with open(\"data.txt\",\"w\") as f:\n",
    "    for i in range(1,11):\n",
    "        \n",
    "        f.write(str(i) + \"\\n\")\n",
    "\n",
    "    with open(\"data.txt\", \"r\") as f:\n",
    "        contents = f.read()\n",
    "        print(contents)"
   ]
  },
  {
   "cell_type": "markdown",
   "metadata": {},
   "source": [
    "2. Word Count in File: Write a program that reads a file named\n",
    "sample.txt, counts the number of words in it, and prints the\n",
    "result."
   ]
  },
  {
   "cell_type": "code",
   "execution_count": 86,
   "metadata": {},
   "outputs": [
    {
     "name": "stdout",
     "output_type": "stream",
     "text": [
      "code with crack\n",
      "Number of words in the file: 3\n"
     ]
    }
   ],
   "source": [
    "with open(\"sample.txt\",\"r\") as f:\n",
    "    result=f.read()\n",
    "    print(result)\n",
    "    word_count = len(result.split())\n",
    "    print(f\"Number of words in the file: {word_count}\")\n",
    "    "
   ]
  },
  {
   "cell_type": "markdown",
   "metadata": {},
   "source": [
    "Section 6: Error Handling"
   ]
  },
  {
   "cell_type": "markdown",
   "metadata": {},
   "source": [
    "1. Division with Error Handling: Write a program that takes two\n",
    "numbers as input and divides the first number by the second.\n",
    "○ Use try and except to handle the division by zero error."
   ]
  },
  {
   "cell_type": "code",
   "execution_count": 89,
   "metadata": {},
   "outputs": [
    {
     "name": "stdout",
     "output_type": "stream",
     "text": [
      "2.0\n"
     ]
    }
   ],
   "source": [
    "a=int(input(\"Enter the first number:\"))\n",
    "b=int(input(\"Enter the second number:\"))\n",
    "\n",
    "try:\n",
    "    divide = a / b\n",
    "    print(divide)\n",
    "except ZeroDivisionError:\n",
    "    \n",
    "    print(\"Cannot divide by zero\")\n"
   ]
  },
  {
   "cell_type": "markdown",
   "metadata": {},
   "source": [
    "2. Integer Input Validation: Create a program that asks the user to\n",
    "input an integer.\n",
    "○ Use try, except, and else to handle invalid input.\n",
    "Example:\n",
    "○ Input: abc\n",
    "○ Output: \"Invalid input, please enter an integer.\""
   ]
  },
  {
   "cell_type": "code",
   "execution_count": 3,
   "metadata": {},
   "outputs": [
    {
     "name": "stdout",
     "output_type": "stream",
     "text": [
      "Invalid input, please enter a integer\n"
     ]
    }
   ],
   "source": [
    "try:\n",
    "    user=int(input(\"Enter the integer:\"))\n",
    "    print(user)\n",
    "except ValueError:\n",
    "    print(\"Invalid input, please enter a integer\")\n",
    "else:\n",
    "    print(\"invalid input\")\n",
    "    "
   ]
  },
  {
   "cell_type": "markdown",
   "metadata": {},
   "source": [
    "3. File Not Found Error Handling: Write a script that:\n",
    "○ Opens a file named unknown.txt.\n",
    "○ Handles the FileNotFoundError gracefully and prints an\n",
    "appropriate message."
   ]
  },
  {
   "cell_type": "code",
   "execution_count": 98,
   "metadata": {},
   "outputs": [
    {
     "name": "stdout",
     "output_type": "stream",
     "text": [
      "The file 'unknown.txt' was not found.\n"
     ]
    }
   ],
   "source": [
    "try:\n",
    "    with open(\"unknown.txt\", \"r\") as file:\n",
    "        content = file.read()\n",
    "        print(content)\n",
    "except FileNotFoundError:\n",
    "    print(\"The file 'unknown.txt' was not found.\")"
   ]
  }
 ],
 "metadata": {
  "kernelspec": {
   "display_name": "Python 3",
   "language": "python",
   "name": "python3"
  },
  "language_info": {
   "codemirror_mode": {
    "name": "ipython",
    "version": 3
   },
   "file_extension": ".py",
   "mimetype": "text/x-python",
   "name": "python",
   "nbconvert_exporter": "python",
   "pygments_lexer": "ipython3",
   "version": "3.12.5"
  }
 },
 "nbformat": 4,
 "nbformat_minor": 2
}
